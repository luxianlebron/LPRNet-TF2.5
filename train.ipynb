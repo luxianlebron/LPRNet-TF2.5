{
 "cells": [
  {
   "cell_type": "code",
   "execution_count": 1,
   "id": "ada9649d",
   "metadata": {},
   "outputs": [],
   "source": [
    "import os\n",
    "os.environ['CUDA_VISIBLE_DEVICES'] = '0'\n",
    "os.environ['TF_CPP_MIN_LOG_LEVEL'] = '2'\n",
    "\n",
    "from dataset import (build_pipeline_from_path, \n",
    "                        tranform, \n",
    "                        CHARS\n",
    "                    )\n",
    "from predict import predict\n",
    "from metric import metric\n",
    "from model import LPRNet\n",
    "import tensorflow as tf\n",
    "import numpy as np\n",
    "import time\n",
    "\n",
    "tf.compat.v1.logging.set_verbosity(tf.compat.v1.logging.ERROR)"
   ]
  },
  {
   "cell_type": "markdown",
   "id": "a7c38503",
   "metadata": {},
   "source": [
    "## 一、超参数设置"
   ]
  },
  {
   "cell_type": "code",
   "execution_count": 2,
   "id": "9937d55c",
   "metadata": {},
   "outputs": [],
   "source": [
    "epochs = 3  # 训练次数\n",
    "img_size=(24, 94)  # 输入图片尺寸\n",
    "train_img_dir = './ccpd_util/ccpd_after_dealing'  # 训练数据集路径\n",
    "test_img_dir = ''  # 测试训练集路径，该参数与split参数2选1即可\n",
    "split = 0.03  # 从训练集中拿出占比split的数据集作为测试集，与上面参数2选1即可\n",
    "initial_lr = 0.001  # 初始学习率\n",
    "dropout_rate = 0.5  # 丢弃率，防止过拟合\n",
    "lpr_len = 7    # 车牌字符长度\n",
    "train_batch_size = 128  # 训练batch大小\n",
    "test_batch_size = 128   # 测试batch大小  \n",
    "saved_model_folder = './saved_model' # .pb模型文件保存路径\n",
    "pretrained_model = ''  # 预训练模型路径"
   ]
  },
  {
   "cell_type": "markdown",
   "id": "529d9859",
   "metadata": {},
   "source": [
    "## 二、加载训练、测试数据集"
   ]
  },
  {
   "cell_type": "code",
   "execution_count": 3,
   "id": "21b494a0",
   "metadata": {},
   "outputs": [
    {
     "data": {
      "text/plain": [
       "<CacheDataset shapes: ((None, 24, 94, 3), (None, 7)), types: (tf.float32, tf.int32)>"
      ]
     },
     "execution_count": 3,
     "metadata": {},
     "output_type": "execute_result"
    }
   ],
   "source": [
    "# 加载数据集\n",
    "train_dataset = build_pipeline_from_path(train_img_dir)\n",
    "num_train_imgs = len(list(train_dataset.as_numpy_iterator()))\n",
    "# 若test_img_dir为空，从训练数据集中拿出split的数据作为测试集\n",
    "if not test_img_dir:\n",
    "    num_test_imgs = int(split * num_train_imgs)\n",
    "    num_train_imgs -= num_test_imgs\n",
    "    test_dataset = train_dataset.take(num_test_imgs)\n",
    "    train_dataset = train_dataset.skip(num_test_imgs)\n",
    "else:\n",
    "    test_dataset = build_pipeline_from_path(test_img_dir)\n",
    "test_dataset = test_dataset.map(lambda x, y: \\\n",
    "                                (tranform(x, img_size=img_size), tf.cast(y, tf.int32)), \n",
    "                                num_parallel_calls=4)\n",
    "test_dataset = test_dataset.batch(test_batch_size)\n",
    "\n",
    "# 对数据集进行归一化等操作\n",
    "train_dataset = train_dataset.map(lambda x, y: \\\n",
    "                                (tranform(x, img_size=img_size), tf.cast(y, tf.int32)), \n",
    "                                num_parallel_calls=4)\n",
    "train_dataset = train_dataset.shuffle(buffer_size=256)\n",
    "train_dataset = train_dataset.batch(train_batch_size)\n",
    "train_dataset.prefetch(tf.data.experimental.AUTOTUNE).cache()"
   ]
  },
  {
   "cell_type": "markdown",
   "id": "dc537286",
   "metadata": {},
   "source": [
    "## 三、模型训练"
   ]
  },
  {
   "cell_type": "code",
   "execution_count": 4,
   "id": "8cc9a3e6",
   "metadata": {},
   "outputs": [
    {
     "name": "stdout",
     "output_type": "stream",
     "text": [
      "********** Successful to build network! **********\n",
      "\n",
      "Epoch 1/3 || Batch 3968/139871 || Loss:26.30145263671875 || A Batch time:0.1387s || Learning rate:0.00100000 ||  "
     ]
    },
    {
     "ename": "KeyboardInterrupt",
     "evalue": "",
     "output_type": "error",
     "traceback": [
      "\u001b[0;31m---------------------------------------------------------------------------\u001b[0m",
      "\u001b[0;31mKeyboardInterrupt\u001b[0m                         Traceback (most recent call last)",
      "\u001b[0;32m/tmp/ipykernel_1200879/1331183956.py\u001b[0m in \u001b[0;36m<module>\u001b[0;34m\u001b[0m\n\u001b[1;32m     43\u001b[0m                   \u001b[0;34m+\u001b[0m \u001b[0;34m\"Loss:{} || \"\u001b[0m\u001b[0;34m.\u001b[0m\u001b[0mformat\u001b[0m\u001b[0;34m(\u001b[0m\u001b[0mloss\u001b[0m\u001b[0;34m)\u001b[0m\u001b[0;34m\u001b[0m\u001b[0;34m\u001b[0m\u001b[0m\n\u001b[1;32m     44\u001b[0m                   \u001b[0;34m+\u001b[0m \u001b[0;34m\"A Batch time:{0:.4f}s || \"\u001b[0m\u001b[0;34m.\u001b[0m\u001b[0mformat\u001b[0m\u001b[0;34m(\u001b[0m\u001b[0mend_time\u001b[0m \u001b[0;34m-\u001b[0m \u001b[0mstart_time\u001b[0m\u001b[0;34m)\u001b[0m\u001b[0;34m\u001b[0m\u001b[0;34m\u001b[0m\u001b[0m\n\u001b[0;32m---> 45\u001b[0;31m                   + \"Learning rate:{0:.8f} || \".format(optimizer.lr.numpy().item()), end=''*20)\n\u001b[0m\u001b[1;32m     46\u001b[0m     \u001b[0macc\u001b[0m\u001b[0;34m,\u001b[0m \u001b[0mtp\u001b[0m\u001b[0;34m,\u001b[0m \u001b[0mtp_error\u001b[0m\u001b[0;34m,\u001b[0m \u001b[0mt\u001b[0m \u001b[0;34m=\u001b[0m \u001b[0mmetric\u001b[0m\u001b[0;34m(\u001b[0m\u001b[0mtest_dataset\u001b[0m\u001b[0;34m,\u001b[0m \u001b[0mmodel\u001b[0m\u001b[0;34m)\u001b[0m\u001b[0;34m\u001b[0m\u001b[0;34m\u001b[0m\u001b[0m\n\u001b[1;32m     47\u001b[0m     \u001b[0mprint\u001b[0m\u001b[0;34m(\u001b[0m\u001b[0;34m\"\\n******* Prediction {0}/{1} || Acc:{2:.2f}% *******\"\u001b[0m\u001b[0;34m.\u001b[0m\u001b[0mformat\u001b[0m\u001b[0;34m(\u001b[0m\u001b[0mtp\u001b[0m\u001b[0;34m,\u001b[0m \u001b[0mtp\u001b[0m \u001b[0;34m+\u001b[0m \u001b[0mtp_error\u001b[0m\u001b[0;34m,\u001b[0m \u001b[0macc\u001b[0m\u001b[0;34m*\u001b[0m\u001b[0;36m100\u001b[0m\u001b[0;34m)\u001b[0m\u001b[0;34m)\u001b[0m\u001b[0;34m\u001b[0m\u001b[0;34m\u001b[0m\u001b[0m\n",
      "\u001b[0;32m~/miniconda3/envs/lpr/lib/python3.7/site-packages/tensorflow/python/framework/ops.py\u001b[0m in \u001b[0;36m__format__\u001b[0;34m(self, format_spec)\u001b[0m\n\u001b[1;32m   1010\u001b[0m \u001b[0;34m\u001b[0m\u001b[0m\n\u001b[1;32m   1011\u001b[0m   \u001b[0;32mdef\u001b[0m \u001b[0m__format__\u001b[0m\u001b[0;34m(\u001b[0m\u001b[0mself\u001b[0m\u001b[0;34m,\u001b[0m \u001b[0mformat_spec\u001b[0m\u001b[0;34m)\u001b[0m\u001b[0;34m:\u001b[0m\u001b[0;34m\u001b[0m\u001b[0;34m\u001b[0m\u001b[0m\n\u001b[0;32m-> 1012\u001b[0;31m     \u001b[0;32mreturn\u001b[0m \u001b[0mself\u001b[0m\u001b[0;34m.\u001b[0m\u001b[0m_numpy\u001b[0m\u001b[0;34m(\u001b[0m\u001b[0;34m)\u001b[0m\u001b[0;34m.\u001b[0m\u001b[0m__format__\u001b[0m\u001b[0;34m(\u001b[0m\u001b[0mformat_spec\u001b[0m\u001b[0;34m)\u001b[0m\u001b[0;34m\u001b[0m\u001b[0;34m\u001b[0m\u001b[0m\n\u001b[0m\u001b[1;32m   1013\u001b[0m \u001b[0;34m\u001b[0m\u001b[0m\n\u001b[1;32m   1014\u001b[0m   \u001b[0;32mdef\u001b[0m \u001b[0m__reduce__\u001b[0m\u001b[0;34m(\u001b[0m\u001b[0mself\u001b[0m\u001b[0;34m)\u001b[0m\u001b[0;34m:\u001b[0m\u001b[0;34m\u001b[0m\u001b[0;34m\u001b[0m\u001b[0m\n",
      "\u001b[0;32m~/miniconda3/envs/lpr/lib/python3.7/site-packages/tensorflow/python/framework/ops.py\u001b[0m in \u001b[0;36m_numpy\u001b[0;34m(self)\u001b[0m\n\u001b[1;32m   1058\u001b[0m   \u001b[0;32mdef\u001b[0m \u001b[0m_numpy\u001b[0m\u001b[0;34m(\u001b[0m\u001b[0mself\u001b[0m\u001b[0;34m)\u001b[0m\u001b[0;34m:\u001b[0m\u001b[0;34m\u001b[0m\u001b[0;34m\u001b[0m\u001b[0m\n\u001b[1;32m   1059\u001b[0m     \u001b[0;32mtry\u001b[0m\u001b[0;34m:\u001b[0m\u001b[0;34m\u001b[0m\u001b[0;34m\u001b[0m\u001b[0m\n\u001b[0;32m-> 1060\u001b[0;31m       \u001b[0;32mreturn\u001b[0m \u001b[0mself\u001b[0m\u001b[0;34m.\u001b[0m\u001b[0m_numpy_internal\u001b[0m\u001b[0;34m(\u001b[0m\u001b[0;34m)\u001b[0m\u001b[0;34m\u001b[0m\u001b[0;34m\u001b[0m\u001b[0m\n\u001b[0m\u001b[1;32m   1061\u001b[0m     \u001b[0;32mexcept\u001b[0m \u001b[0mcore\u001b[0m\u001b[0;34m.\u001b[0m\u001b[0m_NotOkStatusException\u001b[0m \u001b[0;32mas\u001b[0m \u001b[0me\u001b[0m\u001b[0;34m:\u001b[0m  \u001b[0;31m# pylint: disable=protected-access\u001b[0m\u001b[0;34m\u001b[0m\u001b[0;34m\u001b[0m\u001b[0m\n\u001b[1;32m   1062\u001b[0m       \u001b[0msix\u001b[0m\u001b[0;34m.\u001b[0m\u001b[0mraise_from\u001b[0m\u001b[0;34m(\u001b[0m\u001b[0mcore\u001b[0m\u001b[0;34m.\u001b[0m\u001b[0m_status_to_exception\u001b[0m\u001b[0;34m(\u001b[0m\u001b[0me\u001b[0m\u001b[0;34m.\u001b[0m\u001b[0mcode\u001b[0m\u001b[0;34m,\u001b[0m \u001b[0me\u001b[0m\u001b[0;34m.\u001b[0m\u001b[0mmessage\u001b[0m\u001b[0;34m)\u001b[0m\u001b[0;34m,\u001b[0m \u001b[0;32mNone\u001b[0m\u001b[0;34m)\u001b[0m  \u001b[0;31m# pylint: disable=protected-access\u001b[0m\u001b[0;34m\u001b[0m\u001b[0;34m\u001b[0m\u001b[0m\n",
      "\u001b[0;31mKeyboardInterrupt\u001b[0m: "
     ]
    }
   ],
   "source": [
    "if not os.path.exists(saved_model_folder):\n",
    "    os.mkdir(saved_model_folder)\n",
    "\n",
    "# 实例化模型\n",
    "model = LPRNet(num_chars=len(CHARS), dropout_rate=dropout_rate)\n",
    "print(\"********** Successful to build network! **********\\n\")\n",
    "\n",
    "# 加载预训练模型\n",
    "if pretrained_model:\n",
    "    model.load_weights(pretrained_model)\n",
    "    print(\"********** Successful to load pretrained model! **********\")\n",
    "\n",
    "# 优化器使用 RMSprop or Adam, 优先使用 Adam\n",
    "# optimizer = tf.keras.optimizers.RMSprop(learning_rate=initial_lr, momentum=momentum)\n",
    "optimizer = tf.keras.optimizers.Adam(learning_rate=initial_lr)\n",
    "\n",
    "# 模型训练\n",
    "top_acc = 0.\n",
    "for cur_epoch in range(1, epochs + 1):\n",
    "    batch = 0\n",
    "    for batch_index, (train_imgs, train_labels) in enumerate(train_dataset): \n",
    "        start_time = time.time()\n",
    "        with tf.GradientTape() as tape:\n",
    "            train_logits = model(train_imgs) #[N,66,21]\n",
    "            train_labels = tf.cast(train_labels, tf.int32) #[N,7]\n",
    "            train_logits = tf.transpose(train_logits, [2, 0, 1]) #[21,N,66]\n",
    "            logits_shape = train_logits.shape # 获取模型输出的尺寸\n",
    "            logit_length = tf.fill([logits_shape[1]], logits_shape[0]) #shape=(N,),用21填充\n",
    "            label_length = tf.fill([logits_shape[1]], lpr_len) #shape=(N,), 用7填充\n",
    "            loss = tf.nn.ctc_loss(labels=train_labels,\n",
    "                                  logits=train_logits,\n",
    "                                  label_length=label_length,\n",
    "                                  logit_length=logit_length,\n",
    "                                  logits_time_major=True,\n",
    "                                  blank_index=len(CHARS) - 1)\n",
    "            loss = tf.reduce_mean(loss)\n",
    "        grads = tape.gradient(loss, model.variables)\n",
    "        optimizer.apply_gradients(grads_and_vars=zip(grads, model.variables))\n",
    "        end_time = time.time()\n",
    "        batch = batch + int(np.shape(train_imgs)[0])\n",
    "        print('\\r' + \"Epoch {0}/{1} || \".format(cur_epoch, epochs) \n",
    "                  + \"Batch {0}/{1} || \".format(batch, num_train_imgs)\n",
    "                  + \"Loss:{} || \".format(loss) \n",
    "                  + \"A Batch time:{0:.4f}s || \".format(end_time - start_time)\n",
    "                  + \"Learning rate:{0:.8f} || \".format(optimizer.lr.numpy().item()), end=''*20)\n",
    "    acc, tp, tp_error, t = metric(test_dataset, model)\n",
    "    print(\"\\n******* Prediction {0}/{1} || Acc:{2:.2f}% *******\".format(tp, tp + tp_error, acc*100))\n",
    "    print(\"******* Test speed: {}s 1/{} *******\".format(t / (tp + tp_error), tp + tp_error))\n",
    "        \n",
    "    # 保存模型\n",
    "    if acc >= top_acc:\n",
    "        top_acc = acc\n",
    "        model.save(saved_model_folder, save_format='tf')\n"
   ]
  },
  {
   "cell_type": "markdown",
   "id": "7b413758",
   "metadata": {},
   "source": [
    "### 四、模型预测"
   ]
  },
  {
   "cell_type": "code",
   "execution_count": 6,
   "id": "75484772",
   "metadata": {},
   "outputs": [
    {
     "name": "stdout",
     "output_type": "stream",
     "text": [
      "Prediction: 豫NQH178\n"
     ]
    }
   ],
   "source": [
    "model = tf.keras.models.load_model('./pretrained_model')\n",
    "pre_lp = predict('./ccpd_util/ccpd_after_dealing/豫NQH178.jpg', model)\n",
    "print(\"Prediction:\", pre_lp)"
   ]
  },
  {
   "cell_type": "markdown",
   "id": "ae2303c1",
   "metadata": {},
   "source": [
    "## 五、将模型保存为 .tflite 模型文件"
   ]
  },
  {
   "cell_type": "code",
   "execution_count": 7,
   "id": "7f07b09e",
   "metadata": {},
   "outputs": [
    {
     "name": "stdout",
     "output_type": "stream",
     "text": [
      "\n",
      " ********** Successful to convert tflite model! ********** \n",
      "\n"
     ]
    }
   ],
   "source": [
    "# 将.pb模型转为.tflite\n",
    "cvtmodel = tf.keras.models.load_model(saved_model_folder)\n",
    "converter = tf.lite.TFLiteConverter.from_keras_model(cvtmodel)\n",
    "tflite_model = converter.convert()\n",
    "with open('model' + '{}'.format(np.around(top_acc * 100)) + '.tflite', \"wb\") as f:\n",
    "    f.write(tflite_model)\n",
    "print(\"\\n ********** Successful to convert tflite model! ********** \\n\")"
   ]
  }
 ],
 "metadata": {
  "interpreter": {
   "hash": "c794d13750674ac653e3d7a408c5dbf3da52cf29e7a6c11c58127f54f7e97029"
  },
  "kernelspec": {
   "display_name": "yolov3",
   "language": "python",
   "name": "python3"
  },
  "language_info": {
   "codemirror_mode": {
    "name": "ipython",
    "version": 3
   },
   "file_extension": ".py",
   "mimetype": "text/x-python",
   "name": "python",
   "nbconvert_exporter": "python",
   "pygments_lexer": "ipython3",
   "version": "3.7.12"
  }
 },
 "nbformat": 4,
 "nbformat_minor": 5
}
